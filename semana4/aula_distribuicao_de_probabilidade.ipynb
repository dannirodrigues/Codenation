{
 "cells": [
  {
   "cell_type": "code",
   "execution_count": null,
   "metadata": {},
   "outputs": [],
   "source": []
  },
  {
   "cell_type": "markdown",
   "metadata": {},
   "source": [
    "<b> Exemplo 1</b> \n",
    "\n",
    "Imagine o cenário onde queremos fazer uma pesquisa de opinião com 50 pessoas. Se anotarmos 0 para respostas 'não' e um para 'sim', nosso espaço amostral - a combnação de todas as resposta é 2^50 , um número muito grande.Deve haver portanto um jeito de sumarizar essa informação\n",
    "\n",
    "Como queremos saber apenas, por exemplo a quantidade de pessoa que responderam 'sim', podemos representar essa informação com apenas um única escalar. Podemos definir nossa variável aleátoria, X, com X = número de respodentes 'sim'. Reparem que os possiveis valores para X são {0,1,2,3,..50}, que é bem menor que 2⁵⁰.\n",
    "\n",
    "## Função de distribuição acumulada (CDF)\n",
    "\n",
    "Associada a cada V.A existe uma <b>função de distribuição acumulada </b>\n",
    "\n",
    "      F(x) = Fx(x)= P(X <= x)\n",
    "ou seja, a Fx(x) é a probabilidade de obtermos um valor menor ou igual a x para determinar V.A X. A partir de agora o sobrescrito X da CDF será omitido e a V.A relacionada será implícita pela variável da função.\n",
    "\n",
    "Algumas "
   ]
  },
  {
   "cell_type": "code",
   "execution_count": null,
   "metadata": {},
   "outputs": [],
   "source": []
  }
 ],
 "metadata": {
  "kernelspec": {
   "display_name": "Python 3",
   "language": "python",
   "name": "python3"
  },
  "language_info": {
   "codemirror_mode": {
    "name": "ipython",
    "version": 3
   },
   "file_extension": ".py",
   "mimetype": "text/x-python",
   "name": "python",
   "nbconvert_exporter": "python",
   "pygments_lexer": "ipython3",
   "version": "3.7.6"
  }
 },
 "nbformat": 4,
 "nbformat_minor": 4
}
