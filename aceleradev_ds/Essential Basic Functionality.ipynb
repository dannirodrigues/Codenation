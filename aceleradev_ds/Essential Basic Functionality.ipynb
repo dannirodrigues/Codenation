{
 "cells": [
  {
   "cell_type": "code",
   "execution_count": 3,
   "metadata": {},
   "outputs": [],
   "source": [
    "import pandas as pd\n",
    "import numpy as np\n",
    " "
   ]
  },
  {
   "cell_type": "markdown",
   "metadata": {},
   "source": [
    "# Lendo de um HTML"
   ]
  },
  {
   "cell_type": "code",
   "execution_count": 4,
   "metadata": {},
   "outputs": [],
   "source": [
    "url = 'https://en.m.wikipedia.org/wiki/UEFA_Champions_League'\n",
    "\n",
    "html_df = pd.read_html(url,header=0,index_col=0)[3]"
   ]
  },
  {
   "cell_type": "code",
   "execution_count": 10,
   "metadata": {},
   "outputs": [
    {
     "data": {
      "text/html": [
       "<div>\n",
       "<style scoped>\n",
       "    .dataframe tbody tr th:only-of-type {\n",
       "        vertical-align: middle;\n",
       "    }\n",
       "\n",
       "    .dataframe tbody tr th {\n",
       "        vertical-align: top;\n",
       "    }\n",
       "\n",
       "    .dataframe thead th {\n",
       "        text-align: right;\n",
       "    }\n",
       "</style>\n",
       "<table border=\"1\" class=\"dataframe\">\n",
       "  <thead>\n",
       "    <tr style=\"text-align: right;\">\n",
       "      <th></th>\n",
       "      <th>Titles</th>\n",
       "      <th>Runners-up</th>\n",
       "      <th>Total</th>\n",
       "    </tr>\n",
       "    <tr>\n",
       "      <th>Nation</th>\n",
       "      <th></th>\n",
       "      <th></th>\n",
       "      <th></th>\n",
       "    </tr>\n",
       "  </thead>\n",
       "  <tbody>\n",
       "    <tr>\n",
       "      <th>Spain</th>\n",
       "      <td>18</td>\n",
       "      <td>11</td>\n",
       "      <td>29</td>\n",
       "    </tr>\n",
       "    <tr>\n",
       "      <th>England</th>\n",
       "      <td>13</td>\n",
       "      <td>9</td>\n",
       "      <td>22</td>\n",
       "    </tr>\n",
       "    <tr>\n",
       "      <th>Italy</th>\n",
       "      <td>12</td>\n",
       "      <td>16</td>\n",
       "      <td>28</td>\n",
       "    </tr>\n",
       "    <tr>\n",
       "      <th>Germany[A]</th>\n",
       "      <td>7</td>\n",
       "      <td>10</td>\n",
       "      <td>17</td>\n",
       "    </tr>\n",
       "    <tr>\n",
       "      <th>Netherlands</th>\n",
       "      <td>6</td>\n",
       "      <td>2</td>\n",
       "      <td>8</td>\n",
       "    </tr>\n",
       "    <tr>\n",
       "      <th>Portugal</th>\n",
       "      <td>4</td>\n",
       "      <td>5</td>\n",
       "      <td>9</td>\n",
       "    </tr>\n",
       "    <tr>\n",
       "      <th>France</th>\n",
       "      <td>1</td>\n",
       "      <td>5</td>\n",
       "      <td>6</td>\n",
       "    </tr>\n",
       "    <tr>\n",
       "      <th>Romania</th>\n",
       "      <td>1</td>\n",
       "      <td>1</td>\n",
       "      <td>2</td>\n",
       "    </tr>\n",
       "    <tr>\n",
       "      <th>Scotland</th>\n",
       "      <td>1</td>\n",
       "      <td>1</td>\n",
       "      <td>2</td>\n",
       "    </tr>\n",
       "    <tr>\n",
       "      <th>Serbia[B]</th>\n",
       "      <td>1</td>\n",
       "      <td>1</td>\n",
       "      <td>2</td>\n",
       "    </tr>\n",
       "    <tr>\n",
       "      <th>Belgium</th>\n",
       "      <td>0</td>\n",
       "      <td>1</td>\n",
       "      <td>1</td>\n",
       "    </tr>\n",
       "    <tr>\n",
       "      <th>Greece</th>\n",
       "      <td>0</td>\n",
       "      <td>1</td>\n",
       "      <td>1</td>\n",
       "    </tr>\n",
       "    <tr>\n",
       "      <th>Sweden</th>\n",
       "      <td>0</td>\n",
       "      <td>1</td>\n",
       "      <td>1</td>\n",
       "    </tr>\n",
       "    <tr>\n",
       "      <th>Totals</th>\n",
       "      <td>64</td>\n",
       "      <td>64</td>\n",
       "      <td>128</td>\n",
       "    </tr>\n",
       "  </tbody>\n",
       "</table>\n",
       "</div>"
      ],
      "text/plain": [
       "             Titles  Runners-up  Total\n",
       "Nation                                \n",
       "Spain            18          11     29\n",
       "England          13           9     22\n",
       "Italy            12          16     28\n",
       "Germany[A]        7          10     17\n",
       "Netherlands       6           2      8\n",
       "Portugal          4           5      9\n",
       "France            1           5      6\n",
       "Romania           1           1      2\n",
       "Scotland          1           1      2\n",
       "Serbia[B]         1           1      2\n",
       "Belgium           0           1      1\n",
       "Greece            0           1      1\n",
       "Sweden            0           1      1\n",
       "Totals           64          64    128"
      ]
     },
     "execution_count": 10,
     "metadata": {},
     "output_type": "execute_result"
    }
   ],
   "source": [
    "html_df"
   ]
  },
  {
   "cell_type": "code",
   "execution_count": 9,
   "metadata": {},
   "outputs": [
    {
     "data": {
      "text/plain": [
       "1     4\n",
       "0     3\n",
       "13    1\n",
       "12    1\n",
       "64    1\n",
       "7     1\n",
       "6     1\n",
       "4     1\n",
       "18    1\n",
       "Name: Titles, dtype: int64"
      ]
     },
     "execution_count": 9,
     "metadata": {},
     "output_type": "execute_result"
    }
   ],
   "source": [
    "html_df['Titles'].value_counts().idxmax()"
   ]
  },
  {
   "cell_type": "code",
   "execution_count": 11,
   "metadata": {},
   "outputs": [],
   "source": [
    "a = html_df.shape"
   ]
  },
  {
   "cell_type": "code",
   "execution_count": 13,
   "metadata": {},
   "outputs": [
    {
     "data": {
      "text/plain": [
       "3"
      ]
     },
     "execution_count": 13,
     "metadata": {},
     "output_type": "execute_result"
    }
   ],
   "source": [
    "a[0]"
   ]
  },
  {
   "cell_type": "code",
   "execution_count": null,
   "metadata": {},
   "outputs": [],
   "source": [
    "\n"
   ]
  },
  {
   "cell_type": "code",
   "execution_count": null,
   "metadata": {},
   "outputs": [],
   "source": []
  },
  {
   "cell_type": "code",
   "execution_count": null,
   "metadata": {},
   "outputs": [],
   "source": []
  },
  {
   "cell_type": "markdown",
   "metadata": {},
   "source": [
    "# Exploração de dados e estatística descritiva"
   ]
  },
  {
   "cell_type": "markdown",
   "metadata": {},
   "source": [
    "## 1- Look first the number of rows and columns in my data "
   ]
  },
  {
   "cell_type": "code",
   "execution_count": 6,
   "metadata": {},
   "outputs": [
    {
     "data": {
      "text/plain": [
       "(14, 3)"
      ]
     },
     "execution_count": 6,
     "metadata": {},
     "output_type": "execute_result"
    }
   ],
   "source": [
    "html_df.shape"
   ]
  },
  {
   "cell_type": "markdown",
   "metadata": {},
   "source": [
    "## 2 - Second, you might use .info command to see the types of columns and some other information about the DataFrame"
   ]
  },
  {
   "cell_type": "code",
   "execution_count": 7,
   "metadata": {},
   "outputs": [
    {
     "name": "stdout",
     "output_type": "stream",
     "text": [
      "<class 'pandas.core.frame.DataFrame'>\n",
      "Index: 14 entries, Spain to Totals\n",
      "Data columns (total 3 columns):\n",
      " #   Column      Non-Null Count  Dtype\n",
      "---  ------      --------------  -----\n",
      " 0   Titles      14 non-null     int64\n",
      " 1   Runners-up  14 non-null     int64\n",
      " 2   Total       14 non-null     int64\n",
      "dtypes: int64(3)\n",
      "memory usage: 448.0+ bytes\n"
     ]
    }
   ],
   "source": [
    "html_df.info()"
   ]
  },
  {
   "cell_type": "markdown",
   "metadata": {},
   "source": [
    "## Some descriptive statistics of your data, look no further than the .describe() method"
   ]
  },
  {
   "cell_type": "code",
   "execution_count": 8,
   "metadata": {},
   "outputs": [
    {
     "data": {
      "text/html": [
       "<div>\n",
       "<style scoped>\n",
       "    .dataframe tbody tr th:only-of-type {\n",
       "        vertical-align: middle;\n",
       "    }\n",
       "\n",
       "    .dataframe tbody tr th {\n",
       "        vertical-align: top;\n",
       "    }\n",
       "\n",
       "    .dataframe thead th {\n",
       "        text-align: right;\n",
       "    }\n",
       "</style>\n",
       "<table border=\"1\" class=\"dataframe\">\n",
       "  <thead>\n",
       "    <tr style=\"text-align: right;\">\n",
       "      <th></th>\n",
       "      <th>Titles</th>\n",
       "      <th>Runners-up</th>\n",
       "      <th>Total</th>\n",
       "    </tr>\n",
       "  </thead>\n",
       "  <tbody>\n",
       "    <tr>\n",
       "      <th>count</th>\n",
       "      <td>14.000000</td>\n",
       "      <td>14.000000</td>\n",
       "      <td>14.000000</td>\n",
       "    </tr>\n",
       "    <tr>\n",
       "      <th>mean</th>\n",
       "      <td>9.142857</td>\n",
       "      <td>9.142857</td>\n",
       "      <td>18.285714</td>\n",
       "    </tr>\n",
       "    <tr>\n",
       "      <th>std</th>\n",
       "      <td>16.796781</td>\n",
       "      <td>16.510403</td>\n",
       "      <td>33.162603</td>\n",
       "    </tr>\n",
       "    <tr>\n",
       "      <th>min</th>\n",
       "      <td>0.000000</td>\n",
       "      <td>1.000000</td>\n",
       "      <td>1.000000</td>\n",
       "    </tr>\n",
       "    <tr>\n",
       "      <th>25%</th>\n",
       "      <td>1.000000</td>\n",
       "      <td>1.000000</td>\n",
       "      <td>2.000000</td>\n",
       "    </tr>\n",
       "    <tr>\n",
       "      <th>50%</th>\n",
       "      <td>2.500000</td>\n",
       "      <td>3.500000</td>\n",
       "      <td>7.000000</td>\n",
       "    </tr>\n",
       "    <tr>\n",
       "      <th>75%</th>\n",
       "      <td>10.750000</td>\n",
       "      <td>9.750000</td>\n",
       "      <td>20.750000</td>\n",
       "    </tr>\n",
       "    <tr>\n",
       "      <th>max</th>\n",
       "      <td>64.000000</td>\n",
       "      <td>64.000000</td>\n",
       "      <td>128.000000</td>\n",
       "    </tr>\n",
       "  </tbody>\n",
       "</table>\n",
       "</div>"
      ],
      "text/plain": [
       "          Titles  Runners-up       Total\n",
       "count  14.000000   14.000000   14.000000\n",
       "mean    9.142857    9.142857   18.285714\n",
       "std    16.796781   16.510403   33.162603\n",
       "min     0.000000    1.000000    1.000000\n",
       "25%     1.000000    1.000000    2.000000\n",
       "50%     2.500000    3.500000    7.000000\n",
       "75%    10.750000    9.750000   20.750000\n",
       "max    64.000000   64.000000  128.000000"
      ]
     },
     "execution_count": 8,
     "metadata": {},
     "output_type": "execute_result"
    }
   ],
   "source": [
    "html_df.describe()"
   ]
  },
  {
   "cell_type": "code",
   "execution_count": 9,
   "metadata": {},
   "outputs": [
    {
     "data": {
      "text/html": [
       "<div>\n",
       "<style scoped>\n",
       "    .dataframe tbody tr th:only-of-type {\n",
       "        vertical-align: middle;\n",
       "    }\n",
       "\n",
       "    .dataframe tbody tr th {\n",
       "        vertical-align: top;\n",
       "    }\n",
       "\n",
       "    .dataframe thead th {\n",
       "        text-align: right;\n",
       "    }\n",
       "</style>\n",
       "<table border=\"1\" class=\"dataframe\">\n",
       "  <thead>\n",
       "    <tr style=\"text-align: right;\">\n",
       "      <th></th>\n",
       "      <th>Titles</th>\n",
       "      <th>Runners-up</th>\n",
       "      <th>Total</th>\n",
       "    </tr>\n",
       "    <tr>\n",
       "      <th>Nation</th>\n",
       "      <th></th>\n",
       "      <th></th>\n",
       "      <th></th>\n",
       "    </tr>\n",
       "  </thead>\n",
       "  <tbody>\n",
       "    <tr>\n",
       "      <th>Spain</th>\n",
       "      <td>18</td>\n",
       "      <td>11</td>\n",
       "      <td>29</td>\n",
       "    </tr>\n",
       "    <tr>\n",
       "      <th>England</th>\n",
       "      <td>13</td>\n",
       "      <td>9</td>\n",
       "      <td>22</td>\n",
       "    </tr>\n",
       "    <tr>\n",
       "      <th>Italy</th>\n",
       "      <td>12</td>\n",
       "      <td>16</td>\n",
       "      <td>28</td>\n",
       "    </tr>\n",
       "    <tr>\n",
       "      <th>Germany[A]</th>\n",
       "      <td>7</td>\n",
       "      <td>10</td>\n",
       "      <td>17</td>\n",
       "    </tr>\n",
       "    <tr>\n",
       "      <th>Netherlands</th>\n",
       "      <td>6</td>\n",
       "      <td>2</td>\n",
       "      <td>8</td>\n",
       "    </tr>\n",
       "  </tbody>\n",
       "</table>\n",
       "</div>"
      ],
      "text/plain": [
       "             Titles  Runners-up  Total\n",
       "Nation                                \n",
       "Spain            18          11     29\n",
       "England          13           9     22\n",
       "Italy            12          16     28\n",
       "Germany[A]        7          10     17\n",
       "Netherlands       6           2      8"
      ]
     },
     "execution_count": 9,
     "metadata": {},
     "output_type": "execute_result"
    }
   ],
   "source": [
    "html_df.head()"
   ]
  },
  {
   "cell_type": "markdown",
   "metadata": {},
   "source": [
    "# Basic Time Series Manipulation with Pandas\n"
   ]
  },
  {
   "cell_type": "code",
   "execution_count": 32,
   "metadata": {},
   "outputs": [],
   "source": [
    "import pandas as pd\n",
    "from datetime import datetime\n",
    "import numpy as np\n",
    "\n",
    "date_rng = pd.date_range(start='1/1/2018', end='1/08/2018', freq='H')"
   ]
  },
  {
   "cell_type": "code",
   "execution_count": 33,
   "metadata": {},
   "outputs": [
    {
     "data": {
      "text/plain": [
       "DatetimeIndex(['2018-01-01 00:00:00', '2018-01-01 01:00:00',\n",
       "               '2018-01-01 02:00:00', '2018-01-01 03:00:00',\n",
       "               '2018-01-01 04:00:00', '2018-01-01 05:00:00',\n",
       "               '2018-01-01 06:00:00', '2018-01-01 07:00:00',\n",
       "               '2018-01-01 08:00:00', '2018-01-01 09:00:00',\n",
       "               ...\n",
       "               '2018-01-07 15:00:00', '2018-01-07 16:00:00',\n",
       "               '2018-01-07 17:00:00', '2018-01-07 18:00:00',\n",
       "               '2018-01-07 19:00:00', '2018-01-07 20:00:00',\n",
       "               '2018-01-07 21:00:00', '2018-01-07 22:00:00',\n",
       "               '2018-01-07 23:00:00', '2018-01-08 00:00:00'],\n",
       "              dtype='datetime64[ns]', length=169, freq='H')"
      ]
     },
     "execution_count": 33,
     "metadata": {},
     "output_type": "execute_result"
    }
   ],
   "source": [
    "date_rng"
   ]
  },
  {
   "cell_type": "markdown",
   "metadata": {},
   "source": [
    "## verificando o tipo do primeiro elemento"
   ]
  },
  {
   "cell_type": "code",
   "execution_count": 34,
   "metadata": {},
   "outputs": [
    {
     "data": {
      "text/plain": [
       "pandas._libs.tslibs.timestamps.Timestamp"
      ]
     },
     "execution_count": 34,
     "metadata": {},
     "output_type": "execute_result"
    }
   ],
   "source": [
    "type(date_rng[0])"
   ]
  },
  {
   "cell_type": "markdown",
   "metadata": {},
   "source": [
    "## Let's create an example data frame with the data and look at the first 15 elemnets"
   ]
  },
  {
   "cell_type": "code",
   "execution_count": 35,
   "metadata": {},
   "outputs": [],
   "source": [
    "df = pd.DataFrame(date_rng,  columns=['date'])\n",
    "df['data'] = np.random.randint(0,100,size=(len(date_rng)))"
   ]
  },
  {
   "cell_type": "code",
   "execution_count": 36,
   "metadata": {},
   "outputs": [
    {
     "data": {
      "text/html": [
       "<div>\n",
       "<style scoped>\n",
       "    .dataframe tbody tr th:only-of-type {\n",
       "        vertical-align: middle;\n",
       "    }\n",
       "\n",
       "    .dataframe tbody tr th {\n",
       "        vertical-align: top;\n",
       "    }\n",
       "\n",
       "    .dataframe thead th {\n",
       "        text-align: right;\n",
       "    }\n",
       "</style>\n",
       "<table border=\"1\" class=\"dataframe\">\n",
       "  <thead>\n",
       "    <tr style=\"text-align: right;\">\n",
       "      <th></th>\n",
       "      <th>date</th>\n",
       "      <th>data</th>\n",
       "    </tr>\n",
       "  </thead>\n",
       "  <tbody>\n",
       "    <tr>\n",
       "      <th>0</th>\n",
       "      <td>2018-01-01 00:00:00</td>\n",
       "      <td>61</td>\n",
       "    </tr>\n",
       "    <tr>\n",
       "      <th>1</th>\n",
       "      <td>2018-01-01 01:00:00</td>\n",
       "      <td>96</td>\n",
       "    </tr>\n",
       "    <tr>\n",
       "      <th>2</th>\n",
       "      <td>2018-01-01 02:00:00</td>\n",
       "      <td>98</td>\n",
       "    </tr>\n",
       "    <tr>\n",
       "      <th>3</th>\n",
       "      <td>2018-01-01 03:00:00</td>\n",
       "      <td>83</td>\n",
       "    </tr>\n",
       "    <tr>\n",
       "      <th>4</th>\n",
       "      <td>2018-01-01 04:00:00</td>\n",
       "      <td>35</td>\n",
       "    </tr>\n",
       "    <tr>\n",
       "      <th>5</th>\n",
       "      <td>2018-01-01 05:00:00</td>\n",
       "      <td>80</td>\n",
       "    </tr>\n",
       "    <tr>\n",
       "      <th>6</th>\n",
       "      <td>2018-01-01 06:00:00</td>\n",
       "      <td>36</td>\n",
       "    </tr>\n",
       "    <tr>\n",
       "      <th>7</th>\n",
       "      <td>2018-01-01 07:00:00</td>\n",
       "      <td>97</td>\n",
       "    </tr>\n",
       "    <tr>\n",
       "      <th>8</th>\n",
       "      <td>2018-01-01 08:00:00</td>\n",
       "      <td>73</td>\n",
       "    </tr>\n",
       "    <tr>\n",
       "      <th>9</th>\n",
       "      <td>2018-01-01 09:00:00</td>\n",
       "      <td>57</td>\n",
       "    </tr>\n",
       "    <tr>\n",
       "      <th>10</th>\n",
       "      <td>2018-01-01 10:00:00</td>\n",
       "      <td>51</td>\n",
       "    </tr>\n",
       "    <tr>\n",
       "      <th>11</th>\n",
       "      <td>2018-01-01 11:00:00</td>\n",
       "      <td>43</td>\n",
       "    </tr>\n",
       "    <tr>\n",
       "      <th>12</th>\n",
       "      <td>2018-01-01 12:00:00</td>\n",
       "      <td>49</td>\n",
       "    </tr>\n",
       "    <tr>\n",
       "      <th>13</th>\n",
       "      <td>2018-01-01 13:00:00</td>\n",
       "      <td>80</td>\n",
       "    </tr>\n",
       "    <tr>\n",
       "      <th>14</th>\n",
       "      <td>2018-01-01 14:00:00</td>\n",
       "      <td>54</td>\n",
       "    </tr>\n",
       "  </tbody>\n",
       "</table>\n",
       "</div>"
      ],
      "text/plain": [
       "                  date  data\n",
       "0  2018-01-01 00:00:00    61\n",
       "1  2018-01-01 01:00:00    96\n",
       "2  2018-01-01 02:00:00    98\n",
       "3  2018-01-01 03:00:00    83\n",
       "4  2018-01-01 04:00:00    35\n",
       "5  2018-01-01 05:00:00    80\n",
       "6  2018-01-01 06:00:00    36\n",
       "7  2018-01-01 07:00:00    97\n",
       "8  2018-01-01 08:00:00    73\n",
       "9  2018-01-01 09:00:00    57\n",
       "10 2018-01-01 10:00:00    51\n",
       "11 2018-01-01 11:00:00    43\n",
       "12 2018-01-01 12:00:00    49\n",
       "13 2018-01-01 13:00:00    80\n",
       "14 2018-01-01 14:00:00    54"
      ]
     },
     "execution_count": 36,
     "metadata": {},
     "output_type": "execute_result"
    }
   ],
   "source": [
    "df.head(15)"
   ]
  },
  {
   "cell_type": "markdown",
   "metadata": {},
   "source": [
    "## Converter the data frame index to datetime index then show the first elements"
   ]
  },
  {
   "cell_type": "code",
   "execution_count": 37,
   "metadata": {},
   "outputs": [
    {
     "data": {
      "text/html": [
       "<div>\n",
       "<style scoped>\n",
       "    .dataframe tbody tr th:only-of-type {\n",
       "        vertical-align: middle;\n",
       "    }\n",
       "\n",
       "    .dataframe tbody tr th {\n",
       "        vertical-align: top;\n",
       "    }\n",
       "\n",
       "    .dataframe thead th {\n",
       "        text-align: right;\n",
       "    }\n",
       "</style>\n",
       "<table border=\"1\" class=\"dataframe\">\n",
       "  <thead>\n",
       "    <tr style=\"text-align: right;\">\n",
       "      <th></th>\n",
       "      <th>data</th>\n",
       "    </tr>\n",
       "    <tr>\n",
       "      <th>datetime</th>\n",
       "      <th></th>\n",
       "    </tr>\n",
       "  </thead>\n",
       "  <tbody>\n",
       "    <tr>\n",
       "      <th>2018-01-01 00:00:00</th>\n",
       "      <td>61</td>\n",
       "    </tr>\n",
       "    <tr>\n",
       "      <th>2018-01-01 01:00:00</th>\n",
       "      <td>96</td>\n",
       "    </tr>\n",
       "    <tr>\n",
       "      <th>2018-01-01 02:00:00</th>\n",
       "      <td>98</td>\n",
       "    </tr>\n",
       "    <tr>\n",
       "      <th>2018-01-01 03:00:00</th>\n",
       "      <td>83</td>\n",
       "    </tr>\n",
       "    <tr>\n",
       "      <th>2018-01-01 04:00:00</th>\n",
       "      <td>35</td>\n",
       "    </tr>\n",
       "  </tbody>\n",
       "</table>\n",
       "</div>"
      ],
      "text/plain": [
       "                     data\n",
       "datetime                 \n",
       "2018-01-01 00:00:00    61\n",
       "2018-01-01 01:00:00    96\n",
       "2018-01-01 02:00:00    98\n",
       "2018-01-01 03:00:00    83\n",
       "2018-01-01 04:00:00    35"
      ]
     },
     "execution_count": 37,
     "metadata": {},
     "output_type": "execute_result"
    }
   ],
   "source": [
    "df['datetime'] = pd.to_datetime(df['date'])\n",
    "df = df.set_index('datetime')\n",
    "df.drop(['date'], axis=1, inplace=True)\n",
    "df.head()"
   ]
  },
  {
   "cell_type": "markdown",
   "metadata": {},
   "source": [
    "## Vamos converter nosso data_rng para uma lista de strings e então converter a string ára timestamps"
   ]
  },
  {
   "cell_type": "code",
   "execution_count": 41,
   "metadata": {},
   "outputs": [],
   "source": [
    "string_date_rng = [str(x) for x in date_rng]\n",
    "\n"
   ]
  },
  {
   "cell_type": "code",
   "execution_count": 42,
   "metadata": {},
   "outputs": [
    {
     "data": {
      "text/plain": [
       "['2018-01-01 00:00:00',\n",
       " '2018-01-01 01:00:00',\n",
       " '2018-01-01 02:00:00',\n",
       " '2018-01-01 03:00:00',\n",
       " '2018-01-01 04:00:00',\n",
       " '2018-01-01 05:00:00',\n",
       " '2018-01-01 06:00:00',\n",
       " '2018-01-01 07:00:00',\n",
       " '2018-01-01 08:00:00',\n",
       " '2018-01-01 09:00:00',\n",
       " '2018-01-01 10:00:00',\n",
       " '2018-01-01 11:00:00',\n",
       " '2018-01-01 12:00:00',\n",
       " '2018-01-01 13:00:00',\n",
       " '2018-01-01 14:00:00',\n",
       " '2018-01-01 15:00:00',\n",
       " '2018-01-01 16:00:00',\n",
       " '2018-01-01 17:00:00',\n",
       " '2018-01-01 18:00:00',\n",
       " '2018-01-01 19:00:00',\n",
       " '2018-01-01 20:00:00',\n",
       " '2018-01-01 21:00:00',\n",
       " '2018-01-01 22:00:00',\n",
       " '2018-01-01 23:00:00',\n",
       " '2018-01-02 00:00:00',\n",
       " '2018-01-02 01:00:00',\n",
       " '2018-01-02 02:00:00',\n",
       " '2018-01-02 03:00:00',\n",
       " '2018-01-02 04:00:00',\n",
       " '2018-01-02 05:00:00',\n",
       " '2018-01-02 06:00:00',\n",
       " '2018-01-02 07:00:00',\n",
       " '2018-01-02 08:00:00',\n",
       " '2018-01-02 09:00:00',\n",
       " '2018-01-02 10:00:00',\n",
       " '2018-01-02 11:00:00',\n",
       " '2018-01-02 12:00:00',\n",
       " '2018-01-02 13:00:00',\n",
       " '2018-01-02 14:00:00',\n",
       " '2018-01-02 15:00:00',\n",
       " '2018-01-02 16:00:00',\n",
       " '2018-01-02 17:00:00',\n",
       " '2018-01-02 18:00:00',\n",
       " '2018-01-02 19:00:00',\n",
       " '2018-01-02 20:00:00',\n",
       " '2018-01-02 21:00:00',\n",
       " '2018-01-02 22:00:00',\n",
       " '2018-01-02 23:00:00',\n",
       " '2018-01-03 00:00:00',\n",
       " '2018-01-03 01:00:00',\n",
       " '2018-01-03 02:00:00',\n",
       " '2018-01-03 03:00:00',\n",
       " '2018-01-03 04:00:00',\n",
       " '2018-01-03 05:00:00',\n",
       " '2018-01-03 06:00:00',\n",
       " '2018-01-03 07:00:00',\n",
       " '2018-01-03 08:00:00',\n",
       " '2018-01-03 09:00:00',\n",
       " '2018-01-03 10:00:00',\n",
       " '2018-01-03 11:00:00',\n",
       " '2018-01-03 12:00:00',\n",
       " '2018-01-03 13:00:00',\n",
       " '2018-01-03 14:00:00',\n",
       " '2018-01-03 15:00:00',\n",
       " '2018-01-03 16:00:00',\n",
       " '2018-01-03 17:00:00',\n",
       " '2018-01-03 18:00:00',\n",
       " '2018-01-03 19:00:00',\n",
       " '2018-01-03 20:00:00',\n",
       " '2018-01-03 21:00:00',\n",
       " '2018-01-03 22:00:00',\n",
       " '2018-01-03 23:00:00',\n",
       " '2018-01-04 00:00:00',\n",
       " '2018-01-04 01:00:00',\n",
       " '2018-01-04 02:00:00',\n",
       " '2018-01-04 03:00:00',\n",
       " '2018-01-04 04:00:00',\n",
       " '2018-01-04 05:00:00',\n",
       " '2018-01-04 06:00:00',\n",
       " '2018-01-04 07:00:00',\n",
       " '2018-01-04 08:00:00',\n",
       " '2018-01-04 09:00:00',\n",
       " '2018-01-04 10:00:00',\n",
       " '2018-01-04 11:00:00',\n",
       " '2018-01-04 12:00:00',\n",
       " '2018-01-04 13:00:00',\n",
       " '2018-01-04 14:00:00',\n",
       " '2018-01-04 15:00:00',\n",
       " '2018-01-04 16:00:00',\n",
       " '2018-01-04 17:00:00',\n",
       " '2018-01-04 18:00:00',\n",
       " '2018-01-04 19:00:00',\n",
       " '2018-01-04 20:00:00',\n",
       " '2018-01-04 21:00:00',\n",
       " '2018-01-04 22:00:00',\n",
       " '2018-01-04 23:00:00',\n",
       " '2018-01-05 00:00:00',\n",
       " '2018-01-05 01:00:00',\n",
       " '2018-01-05 02:00:00',\n",
       " '2018-01-05 03:00:00',\n",
       " '2018-01-05 04:00:00',\n",
       " '2018-01-05 05:00:00',\n",
       " '2018-01-05 06:00:00',\n",
       " '2018-01-05 07:00:00',\n",
       " '2018-01-05 08:00:00',\n",
       " '2018-01-05 09:00:00',\n",
       " '2018-01-05 10:00:00',\n",
       " '2018-01-05 11:00:00',\n",
       " '2018-01-05 12:00:00',\n",
       " '2018-01-05 13:00:00',\n",
       " '2018-01-05 14:00:00',\n",
       " '2018-01-05 15:00:00',\n",
       " '2018-01-05 16:00:00',\n",
       " '2018-01-05 17:00:00',\n",
       " '2018-01-05 18:00:00',\n",
       " '2018-01-05 19:00:00',\n",
       " '2018-01-05 20:00:00',\n",
       " '2018-01-05 21:00:00',\n",
       " '2018-01-05 22:00:00',\n",
       " '2018-01-05 23:00:00',\n",
       " '2018-01-06 00:00:00',\n",
       " '2018-01-06 01:00:00',\n",
       " '2018-01-06 02:00:00',\n",
       " '2018-01-06 03:00:00',\n",
       " '2018-01-06 04:00:00',\n",
       " '2018-01-06 05:00:00',\n",
       " '2018-01-06 06:00:00',\n",
       " '2018-01-06 07:00:00',\n",
       " '2018-01-06 08:00:00',\n",
       " '2018-01-06 09:00:00',\n",
       " '2018-01-06 10:00:00',\n",
       " '2018-01-06 11:00:00',\n",
       " '2018-01-06 12:00:00',\n",
       " '2018-01-06 13:00:00',\n",
       " '2018-01-06 14:00:00',\n",
       " '2018-01-06 15:00:00',\n",
       " '2018-01-06 16:00:00',\n",
       " '2018-01-06 17:00:00',\n",
       " '2018-01-06 18:00:00',\n",
       " '2018-01-06 19:00:00',\n",
       " '2018-01-06 20:00:00',\n",
       " '2018-01-06 21:00:00',\n",
       " '2018-01-06 22:00:00',\n",
       " '2018-01-06 23:00:00',\n",
       " '2018-01-07 00:00:00',\n",
       " '2018-01-07 01:00:00',\n",
       " '2018-01-07 02:00:00',\n",
       " '2018-01-07 03:00:00',\n",
       " '2018-01-07 04:00:00',\n",
       " '2018-01-07 05:00:00',\n",
       " '2018-01-07 06:00:00',\n",
       " '2018-01-07 07:00:00',\n",
       " '2018-01-07 08:00:00',\n",
       " '2018-01-07 09:00:00',\n",
       " '2018-01-07 10:00:00',\n",
       " '2018-01-07 11:00:00',\n",
       " '2018-01-07 12:00:00',\n",
       " '2018-01-07 13:00:00',\n",
       " '2018-01-07 14:00:00',\n",
       " '2018-01-07 15:00:00',\n",
       " '2018-01-07 16:00:00',\n",
       " '2018-01-07 17:00:00',\n",
       " '2018-01-07 18:00:00',\n",
       " '2018-01-07 19:00:00',\n",
       " '2018-01-07 20:00:00',\n",
       " '2018-01-07 21:00:00',\n",
       " '2018-01-07 22:00:00',\n",
       " '2018-01-07 23:00:00',\n",
       " '2018-01-08 00:00:00']"
      ]
     },
     "execution_count": 42,
     "metadata": {},
     "output_type": "execute_result"
    }
   ],
   "source": [
    "string_date_rng"
   ]
  },
  {
   "cell_type": "code",
   "execution_count": 43,
   "metadata": {},
   "outputs": [
    {
     "data": {
      "text/plain": [
       "DatetimeIndex(['2018-01-01 00:00:00', '2018-01-01 01:00:00',\n",
       "               '2018-01-01 02:00:00', '2018-01-01 03:00:00',\n",
       "               '2018-01-01 04:00:00', '2018-01-01 05:00:00',\n",
       "               '2018-01-01 06:00:00', '2018-01-01 07:00:00',\n",
       "               '2018-01-01 08:00:00', '2018-01-01 09:00:00',\n",
       "               ...\n",
       "               '2018-01-07 15:00:00', '2018-01-07 16:00:00',\n",
       "               '2018-01-07 17:00:00', '2018-01-07 18:00:00',\n",
       "               '2018-01-07 19:00:00', '2018-01-07 20:00:00',\n",
       "               '2018-01-07 21:00:00', '2018-01-07 22:00:00',\n",
       "               '2018-01-07 23:00:00', '2018-01-08 00:00:00'],\n",
       "              dtype='datetime64[ns]', length=169, freq=None)"
      ]
     },
     "execution_count": 43,
     "metadata": {},
     "output_type": "execute_result"
    }
   ],
   "source": [
    "timestamp_date_rng = pd.to_datetime(string_date_rng, infer_datetime_format=True)\n",
    "timestamp_date_rng"
   ]
  },
  {
   "cell_type": "code",
   "execution_count": null,
   "metadata": {},
   "outputs": [],
   "source": []
  }
 ],
 "metadata": {
  "kernelspec": {
   "display_name": "Python 3",
   "language": "python",
   "name": "python3"
  },
  "language_info": {
   "codemirror_mode": {
    "name": "ipython",
    "version": 3
   },
   "file_extension": ".py",
   "mimetype": "text/x-python",
   "name": "python",
   "nbconvert_exporter": "python",
   "pygments_lexer": "ipython3",
   "version": "3.7.6"
  }
 },
 "nbformat": 4,
 "nbformat_minor": 4
}
