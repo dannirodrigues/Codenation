{
 "cells": [
  {
   "cell_type": "markdown",
   "metadata": {},
   "source": [
    "## 1- Teste U de Mann-Whitney\n",
    "\n",
    "Testa se as distribuições de duas amostras independentes são iguais ou não.\n",
    "\n",
    "Premissas\n",
    "\n",
    "- As observações em cada amostra são independentes e identicamente distribuídas (iid).\n",
    "- As observações em cada amostra podem ser classificadas.\n",
    "\n",
    "Interpretação\n",
    "\n",
    "- H0: as distribuições de ambas as amostras são iguais.\n",
    "- H1: as distribuições de ambas as amostras não são iguais."
   ]
  },
  {
   "cell_type": "code",
   "execution_count": 1,
   "metadata": {},
   "outputs": [
    {
     "name": "stdout",
     "output_type": "stream",
     "text": [
      "stat=40.000, p=0.236\n",
      "Probably the same distribution\n"
     ]
    }
   ],
   "source": [
    "from scipy.stats import mannwhitneyu\n",
    "data1 = [0.873, 2.817, 0.121, -0.945, -0.055, -1.436, 0.360, -1.478, -1.637, -1.869]\n",
    "data2 = [1.142, -0.432, -0.938, -0.729, -0.846, -0.157, 0.500, 1.183, -1.075, -0.169]\n",
    "stat, p = mannwhitneyu(data1, data2)\n",
    "print('stat=%.3f, p=%.3f' % (stat, p))\n",
    "if p > 0.05:\n",
    "    print('Probably the same distribution')\n",
    "else:\n",
    "    print('Probably different distributions')"
   ]
  },
  {
   "cell_type": "markdown",
   "metadata": {},
   "source": [
    "## 2 - Teste de classificação assinada de Wilcoxon\n",
    "Testa se as distribuições de duas amostras emparelhadas são iguais ou não.\n",
    "\n",
    "Premissas\n",
    "\n",
    "- As observações em cada amostra são independentes e identicamente distribuídas (iid).\n",
    "- As observações em cada amostra podem ser classificadas.\n",
    "- As observações em cada amostra são pareadas.\n",
    "\n",
    "Interpretação\n",
    "\n",
    "- H0: as distribuições de ambas as amostras são iguais.\n",
    "- H1: as distribuições de ambas as amostras não são iguais."
   ]
  },
  {
   "cell_type": "code",
   "execution_count": 2,
   "metadata": {},
   "outputs": [
    {
     "name": "stdout",
     "output_type": "stream",
     "text": [
      "stat=21.000, p=0.508\n",
      "Probably the same distribution\n"
     ]
    }
   ],
   "source": [
    "# Example of the Wilcoxon Signed-Rank Test\n",
    "from scipy.stats import wilcoxon\n",
    "data1 = [0.873, 2.817, 0.121, -0.945, -0.055, -1.436, 0.360, -1.478, -1.637, -1.869]\n",
    "data2 = [1.142, -0.432, -0.938, -0.729, -0.846, -0.157, 0.500, 1.183, -1.075, -0.169]\n",
    "stat, p = wilcoxon(data1, data2)\n",
    "print('stat=%.3f, p=%.3f' % (stat, p))\n",
    "if p > 0.05:\n",
    "    print('Probably the same distribution')\n",
    "else:\n",
    "    print('Probably different distributions')"
   ]
  },
  {
   "cell_type": "code",
   "execution_count": null,
   "metadata": {},
   "outputs": [],
   "source": []
  }
 ],
 "metadata": {
  "kernelspec": {
   "display_name": "Python 3",
   "language": "python",
   "name": "python3"
  },
  "language_info": {
   "codemirror_mode": {
    "name": "ipython",
    "version": 3
   },
   "file_extension": ".py",
   "mimetype": "text/x-python",
   "name": "python",
   "nbconvert_exporter": "python",
   "pygments_lexer": "ipython3",
   "version": "3.7.6"
  }
 },
 "nbformat": 4,
 "nbformat_minor": 4
}
