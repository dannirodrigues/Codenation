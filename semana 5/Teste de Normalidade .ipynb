{
 "cells": [
  {
   "cell_type": "markdown",
   "metadata": {},
   "source": [
    "### dicas para os testes de hipóteses estatísticas mais populares para um projeto de machine learning  com exemplos usando a API Python.\n",
    "\n",
    "### Cada teste estatístico é apresentado de forma consistente, incluindo:\n",
    "\n",
    "- O nome do teste.\n",
    "- O que o teste está verificando.\n",
    "- As principais premissas do teste.\n",
    "- Como o resultado do teste é interpretado.\n",
    "- API Python para usar o teste.\n",
    "\n",
    "\n",
    "\n",
    "Geralmente, as amostras de dados precisam ser representativas do domínio e grandes o suficiente para expor sua distribuição à análise\n",
    "\n",
    "\n",
    "Em alguns casos, os dados podem ser corrigidos para atender às premissas, como corrigir uma distribuição quase normal como normal, removendo valores discrepantes ou usar uma correção para os graus de liberdade em um teste estatístico quando as amostras têm variações diferentes\n"
   ]
  },
  {
   "cell_type": "markdown",
   "metadata": {},
   "source": [
    "# Teste de Normalidade \n",
    "\n",
    "## 1 - Testa de Shapiro-Wilk\n",
    "       Testa se uma amostra de dados tem uma distribuição Gaussiana.\n",
    "       Premissas:\n",
    "          As observações em cada amostra são independentes e indenticamente distribuídas.\n",
    "          Interpretação\n",
    "          - HO: a amostra possui um distribuição gaussiana\n",
    "          - H1: a amostra não possui distribuição Gaussiana"
   ]
  },
  {
   "cell_type": "code",
   "execution_count": 4,
   "metadata": {},
   "outputs": [
    {
     "name": "stdout",
     "output_type": "stream",
     "text": [
      "stat=0.895, p=0.193\n",
      "Probably Gaussian\n"
     ]
    }
   ],
   "source": [
    "#exanple of the Shapiro-Wilk Normality Test\n",
    "\n",
    "from scipy.stats import shapiro\n",
    "data =  [0.873, 2.817, 0.121, -0.945, -0.055, -1.436, 0.360, -1.478, -1.637, -1.869]\n",
    "stat , p = shapiro(data)\n",
    "print('stat=%.3f, p=%.3f' % (stat, p))\n",
    "if p < 0.5:\n",
    "    print('Probably Gaussian')\n",
    "else:\n",
    "    print('Probably not Gaussian')"
   ]
  },
  {
   "cell_type": "markdown",
   "metadata": {},
   "source": [
    "##  2- Teste D’Agostino’s K^2 \n",
    "    Testa se uma amostra de dados tem uma distribuição Gaussiana.\n",
    "     \n",
    "    Premissas:\n",
    "        As observações em cada amostra são independentes e indenticamente distribuídas.\n",
    "    Interpretação\n",
    "      - HO: a amostra possui um distribuição gaussiana\n",
    "      - H1: a amostra não possui distribuição Gaussiana"
   ]
  },
  {
   "cell_type": "code",
   "execution_count": 5,
   "metadata": {},
   "outputs": [
    {
     "name": "stdout",
     "output_type": "stream",
     "text": [
      "stat=3.392, p=0.183\n",
      "Probably Gaussian\n"
     ]
    },
    {
     "name": "stderr",
     "output_type": "stream",
     "text": [
      "/home/dani/anaconda3/lib/python3.7/site-packages/scipy/stats/stats.py:1535: UserWarning: kurtosistest only valid for n>=20 ... continuing anyway, n=10\n",
      "  \"anyway, n=%i\" % int(n))\n"
     ]
    }
   ],
   "source": [
    "# Example of the D'Agostino's K^2 Normality Test\n",
    "from scipy.stats import normaltest\n",
    "data = [0.873, 2.817, 0.121, -0.945, -0.055, -1.436, 0.360, -1.478, -1.637, -1.869]\n",
    "stat, p = normaltest(data)\n",
    "print('stat=%.3f, p=%.3f' % (stat, p))\n",
    "if p > 0.05:\n",
    "    print('Probably Gaussian')\n",
    "else:\n",
    "    print('Probably not Gaussian')"
   ]
  },
  {
   "cell_type": "markdown",
   "metadata": {},
   "source": [
    "## 3 - Teste Anderson-Darling\n",
    "\n",
    " Testa se uma amostra de dados tem uma distribuição Gaussiana.\n",
    "     \n",
    "    Premissas:\n",
    "        As observações em cada amostra são independentes e indenticamente distribuídas.\n",
    "    Interpretação\n",
    "      - HO: a amostra possui um distribuição gaussiana\n",
    "      - H1: a amostra não possui distribuição Gaussiana"
   ]
  },
  {
   "cell_type": "code",
   "execution_count": 6,
   "metadata": {},
   "outputs": [
    {
     "name": "stdout",
     "output_type": "stream",
     "text": [
      "stat=0.424\n",
      "Probably Gaussian at the 15.0% level\n",
      "Probably Gaussian at the 10.0% level\n",
      "Probably Gaussian at the 5.0% level\n",
      "Probably Gaussian at the 2.5% level\n",
      "Probably Gaussian at the 1.0% level\n"
     ]
    }
   ],
   "source": [
    "# Example of the Anderson-Darling Normality Test\n",
    "from scipy.stats import anderson\n",
    "data = [0.873, 2.817, 0.121, -0.945, -0.055, -1.436, 0.360, -1.478, -1.637, -1.869]\n",
    "result = anderson(data)\n",
    "print('stat=%.3f' % (result.statistic))\n",
    "for i in range(len(result.critical_values)):\n",
    "    sl, cv = result.significance_level[i], result.critical_values[i]\n",
    "    if result.statistic < cv:\n",
    "        print('Probably Gaussian at the %.1f%% level' % (sl))\n",
    "    else:\n",
    "        print('Probably not Gaussian at the %.1f%% level' % (sl))"
   ]
  },
  {
   "cell_type": "markdown",
   "metadata": {},
   "source": []
  },
  {
   "cell_type": "markdown",
   "metadata": {},
   "source": [
    "\n",
    "         "
   ]
  },
  {
   "cell_type": "code",
   "execution_count": null,
   "metadata": {},
   "outputs": [],
   "source": []
  }
 ],
 "metadata": {
  "kernelspec": {
   "display_name": "Python 3",
   "language": "python",
   "name": "python3"
  },
  "language_info": {
   "codemirror_mode": {
    "name": "ipython",
    "version": 3
   },
   "file_extension": ".py",
   "mimetype": "text/x-python",
   "name": "python",
   "nbconvert_exporter": "python",
   "pygments_lexer": "ipython3",
   "version": "3.7.6"
  }
 },
 "nbformat": 4,
 "nbformat_minor": 4
}
