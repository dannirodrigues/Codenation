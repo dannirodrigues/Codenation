{
 "cells": [
  {
   "cell_type": "markdown",
   "metadata": {},
   "source": [
    "# Esta seção lista os testes estatísticos que você pode usar para comparar amostras de dados."
   ]
  },
  {
   "cell_type": "markdown",
   "metadata": {},
   "source": [
    "## 1 - Teste de Student \n",
    "Teste t pode ser conduzido para:\n",
    "- Comparar uma amostra com uma população\n",
    "- Comparar duas amostras pareadas\n",
    "- Comparar duas amostras independentes\n",
    "\n",
    "Testa se as médias de duas amostras independentes são significativamente diferentes.\n",
    "\n",
    "Premissas\n",
    "\n",
    "- As observações em cada amostra são independentes e identicamente distribuídas (iid).\n",
    "- As observações em cada amostra são normalmente distribuídas.\n",
    "- As observações em cada amostra têm a mesma variação.\n",
    "\n",
    "Interpretação\n",
    "\n",
    "- H0: as médias das amostras são iguais.\n",
    "- H1: os meios das amostras são desiguais.\n"
   ]
  },
  {
   "cell_type": "code",
   "execution_count": 1,
   "metadata": {},
   "outputs": [
    {
     "name": "stdout",
     "output_type": "stream",
     "text": [
      "stat=-0.326, p=0.748\n",
      "Probably the same distribution\n"
     ]
    }
   ],
   "source": [
    "# Example of the Student's t-test\n",
    "from scipy.stats import ttest_ind\n",
    "data1 = [0.873, 2.817, 0.121, -0.945, -0.055, -1.436, 0.360, -1.478, -1.637, -1.869]\n",
    "data2 = [1.142, -0.432, -0.938, -0.729, -0.846, -0.157, 0.500, 1.183, -1.075, -0.169]\n",
    "stat, p = ttest_ind(data1, data2)\n",
    "print('stat=%.3f, p=%.3f' % (stat, p))\n",
    "if p > 0.05:\n",
    "    print('Probably the same distribution')\n",
    "else:\n",
    "    print('Probably different distributions')"
   ]
  },
  {
   "cell_type": "markdown",
   "metadata": {},
   "source": [
    "## 2 - Teste t de Student emparelhado\n",
    "\n",
    "Testa se as médias de duas amostras emparelhadas são significativamente diferentes.\n",
    "\n",
    "Premissas\n",
    "\n",
    "- As observações em cada amostra são independentes e identicamente distribuídas (iid).\n",
    "- observações em cada amostra são normalmente distribuídas.\n",
    "- As observações em cada amostra têm a mesma variação.\n",
    "- As observações em cada amostra são pareadas.\n",
    "\n",
    "Interpretação\n",
    "\n",
    "- H0: as médias das amostras são iguais.\n",
    "- H1: os meios das amostras são desiguais."
   ]
  },
  {
   "cell_type": "code",
   "execution_count": 2,
   "metadata": {},
   "outputs": [
    {
     "name": "stdout",
     "output_type": "stream",
     "text": [
      "stat=-0.334, p=0.746\n",
      "Probably the same distribution\n"
     ]
    }
   ],
   "source": [
    "# Example of the Paired Student's t-test\n",
    "from scipy.stats import ttest_rel\n",
    "data1 = [0.873, 2.817, 0.121, -0.945, -0.055, -1.436, 0.360, -1.478, -1.637, -1.869]\n",
    "data2 = [1.142, -0.432, -0.938, -0.729, -0.846, -0.157, 0.500, 1.183, -1.075, -0.169]\n",
    "stat, p = ttest_rel(data1, data2)\n",
    "print('stat=%.3f, p=%.3f' % (stat, p))\n",
    "if p > 0.05:\n",
    "    print('Probably the same distribution')\n",
    "else:\n",
    "    print('Probably different distributions')"
   ]
  },
  {
   "cell_type": "markdown",
   "metadata": {},
   "source": [
    "## 3 - Teste de Análise de Variância (ANOVA)\n",
    "\n",
    "Testa se as médias de duas ou mais amostras independentes são significativamente diferentes.\n",
    "\n",
    "Premissas\n",
    "\n",
    "- As observações em cada amostra são independentes e identicamente distribuídas (iid).\n",
    "- As observações em cada amostra são normalmente distribuídas.\n",
    "- As observações em cada amostra têm a mesma variação.\n",
    "\n",
    "Interpretação\n",
    "\n",
    "- H0: as médias das amostras são iguais.\n",
    "- H1: um ou mais dos meios das amostras são desiguais."
   ]
  },
  {
   "cell_type": "code",
   "execution_count": 3,
   "metadata": {},
   "outputs": [
    {
     "name": "stdout",
     "output_type": "stream",
     "text": [
      "stat=0.096, p=0.908\n",
      "Probably the same distribution\n"
     ]
    }
   ],
   "source": [
    "from scipy.stats import f_oneway\n",
    "data1 = [0.873, 2.817, 0.121, -0.945, -0.055, -1.436, 0.360, -1.478, -1.637, -1.869]\n",
    "data2 = [1.142, -0.432, -0.938, -0.729, -0.846, -0.157, 0.500, 1.183, -1.075, -0.169]\n",
    "data3 = [-0.208, 0.696, 0.928, -1.148, -0.213, 0.229, 0.137, 0.269, -0.870, -1.204]\n",
    "stat, p = f_oneway(data1, data2, data3)\n",
    "print('stat=%.3f, p=%.3f' % (stat, p))\n",
    "if p > 0.05:\n",
    "    print('Probably the same distribution')\n",
    "else:\n",
    "    print('Probably different distributions')"
   ]
  },
  {
   "cell_type": "markdown",
   "metadata": {},
   "source": []
  }
 ],
 "metadata": {
  "kernelspec": {
   "display_name": "Python 3",
   "language": "python",
   "name": "python3"
  },
  "language_info": {
   "codemirror_mode": {
    "name": "ipython",
    "version": 3
   },
   "file_extension": ".py",
   "mimetype": "text/x-python",
   "name": "python",
   "nbconvert_exporter": "python",
   "pygments_lexer": "ipython3",
   "version": "3.7.6"
  }
 },
 "nbformat": 4,
 "nbformat_minor": 4
}
